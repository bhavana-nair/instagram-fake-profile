{
 "cells": [
  {
   "cell_type": "markdown",
   "id": "dbe68843",
   "metadata": {},
   "source": [
    "# Socialmedia Fake Profile Detection"
   ]
  },
  {
   "cell_type": "code",
   "execution_count": 453,
   "id": "849e7650",
   "metadata": {},
   "outputs": [],
   "source": [
    "import pandas as pd\n",
    "import numpy as np\n",
    "import matplotlib.pyplot as plt\n",
    "import seaborn as sns\n",
    "\n",
    "import tensorflow as tf\n",
    "from tensorflow import keras\n",
    "from tensorflow.keras.models import Sequential\n",
    "from tensorflow.keras.layers import Dense, Dropout\n",
    "from tensorflow.keras.layers import Dense, Activation, Dropout\n",
    "from tensorflow.keras.optimizers import Adam\n",
    "from tensorflow.keras.metrics import Accuracy\n",
    "\n",
    "from sklearn import metrics\n",
    "from sklearn.preprocessing import LabelEncoder\n",
    "from sklearn.metrics import classification_report,accuracy_score,roc_curve,confusion_matrix"
   ]
  },
  {
   "cell_type": "code",
   "execution_count": 454,
   "id": "591697b6",
   "metadata": {},
   "outputs": [],
   "source": [
    "df_users = pd.read_csv("users.csv")\n",
    "df_fusers = pd.read_csv("fusers.csv")"
   ]
  },
  {
   "cell_type": "code",
   "execution_count": 455,
   "id": "14be6732",
   "metadata": {},
   "outputs": [],
   "source": [
    "#for df_users\n",
    "isNotFake = np.zeros(3474)\n",
    "\n",
    "#for df_fusers\n",
    "isFake = np.ones(3351)\n",
    "\n",
    "#adding is fake or not column to make predictions for it\n",
    "df_fusers[\"fake\"] = isFake\n",
    "df_users[\"fake\"] = isNotFake"
   ]
  },
  {
   "cell_type": "code",
   "execution_count": 456,
   "id": "6c4293cb",
   "metadata": {},
   "outputs": [],
   "source": [
    "df_allUsers = pd.concat([df_fusers, df_users], ignore_index=True)\n",
    "df_allUsers.columns = df_allUsers.columns.str.strip()\n",
    "df_allUsers = df_allUsers.sample(frac=1).reset_index(drop=True)"
   ]
  },
  {
   "cell_type": "code",
   "execution_count": 457,
   "id": "d3ba6d79",
   "metadata": {},
   "outputs": [],
   "source": [
    "df_allUsers['default_profile'] = df_allUsers['default_profile'].fillna(0)\n",
    "df_allUsers['geo_enabled'] = df_allUsers['geo_enabled'].fillna(0)\n",
    "df_allUsers['profile_use_background_image'] = df_allUsers['profile_use_background_image'].fillna(0)\n",
    "df_allUsers['profile_background_tile'] = df_allUsers['profile_background_tile'].fillna(0)\n",
    "df_allUsers['utc_offset'] = df_allUsers['utc_offset'].fillna(0)\n",
    "df_allUsers['follow_request_sent'] = df_allUsers['follow_request_sent'].fillna(0)\n",
    "\n",
    "\n",
    "df_allUsers = df_allUsers.drop(columns = ['screen_name','name','contributors_enabled','profile_image_url','profile_banner_url', 'profile_text_color', 'profile_background_image_url_https', 'crawled_at','profile_sidebar_fill_color','profile_background_color','profile_link_color', 'updated', 'lang','created_at','profile_background_image_url','location','timestamp','protected','verified','following', 'profile_image_url_https','time_zone','profile_sidebar_border_color','url','is_translator','description','test_set_1','test_set_2','default_profile_image', 'notifications'])"
   ]
  },
  {
   "cell_type": "code",
   "execution_count": 482,
   "id": "c809a46a",
   "metadata": {},
   "outputs": [
    {
     "data": {
      "text/html": [
       "<div>\n",
       "<style scoped>\n",
       "    .dataframe tbody tr th:only-of-type {\n",
       "        vertical-align: middle;\n",
       "    }\n",
       "\n",
       "    .dataframe tbody tr th {\n",
       "        vertical-align: top;\n",
       "    }\n",
       "\n",
       "    .dataframe thead th {\n",
       "        text-align: right;\n",
       "    }\n",
       "</style>\n",
       "<table border=\"1\" class=\"dataframe\">\n",
       "  <thead>\n",
       "    <tr style=\"text-align: right;\">\n",
       "      <th></th>\n",
       "      <th>id</th>\n",
       "      <th>statuses_count</th>\n",
       "      <th>followers_count</th>\n",
       "      <th>friends_count</th>\n",
       "      <th>favourites_count</th>\n",
       "      <th>listed_count</th>\n",
       "      <th>default_profile</th>\n",
       "      <th>geo_enabled</th>\n",
       "      <th>profile_use_background_image</th>\n",
       "      <th>profile_background_tile</th>\n",
       "      <th>utc_offset</th>\n",
       "      <th>follow_request_sent</th>\n",
       "      <th>fake</th>\n",
       "    </tr>\n",
       "  </thead>\n",
       "  <tbody>\n",
       "    <tr>\n",
       "      <th>0</th>\n",
       "      <td>617694691</td>\n",
       "      <td>41</td>\n",
       "      <td>20</td>\n",
       "      <td>332</td>\n",
       "      <td>0</td>\n",
       "      <td>0</td>\n",
       "      <td>1.0</td>\n",
       "      <td>0.0</td>\n",
       "      <td>1.0</td>\n",
       "      <td>0.0</td>\n",
       "      <td>0.0</td>\n",
       "      <td>0.0</td>\n",
       "      <td>1.0</td>\n",
       "    </tr>\n",
       "    <tr>\n",
       "      <th>1</th>\n",
       "      <td>562035970</td>\n",
       "      <td>617</td>\n",
       "      <td>37</td>\n",
       "      <td>259</td>\n",
       "      <td>1</td>\n",
       "      <td>0</td>\n",
       "      <td>1.0</td>\n",
       "      <td>1.0</td>\n",
       "      <td>1.0</td>\n",
       "      <td>0.0</td>\n",
       "      <td>0.0</td>\n",
       "      <td>0.0</td>\n",
       "      <td>0.0</td>\n",
       "    </tr>\n",
       "    <tr>\n",
       "      <th>2</th>\n",
       "      <td>619466144</td>\n",
       "      <td>27</td>\n",
       "      <td>16</td>\n",
       "      <td>255</td>\n",
       "      <td>0</td>\n",
       "      <td>0</td>\n",
       "      <td>1.0</td>\n",
       "      <td>0.0</td>\n",
       "      <td>1.0</td>\n",
       "      <td>0.0</td>\n",
       "      <td>0.0</td>\n",
       "      <td>0.0</td>\n",
       "      <td>1.0</td>\n",
       "    </tr>\n",
       "    <tr>\n",
       "      <th>3</th>\n",
       "      <td>2774497975</td>\n",
       "      <td>80</td>\n",
       "      <td>30</td>\n",
       "      <td>351</td>\n",
       "      <td>21</td>\n",
       "      <td>0</td>\n",
       "      <td>1.0</td>\n",
       "      <td>0.0</td>\n",
       "      <td>1.0</td>\n",
       "      <td>0.0</td>\n",
       "      <td>0.0</td>\n",
       "      <td>0.0</td>\n",
       "      <td>0.0</td>\n",
       "    </tr>\n",
       "    <tr>\n",
       "      <th>4</th>\n",
       "      <td>249292320</td>\n",
       "      <td>0</td>\n",
       "      <td>11</td>\n",
       "      <td>620</td>\n",
       "      <td>0</td>\n",
       "      <td>0</td>\n",
       "      <td>0.0</td>\n",
       "      <td>0.0</td>\n",
       "      <td>1.0</td>\n",
       "      <td>0.0</td>\n",
       "      <td>0.0</td>\n",
       "      <td>0.0</td>\n",
       "      <td>1.0</td>\n",
       "    </tr>\n",
       "    <tr>\n",
       "      <th>...</th>\n",
       "      <td>...</td>\n",
       "      <td>...</td>\n",
       "      <td>...</td>\n",
       "      <td>...</td>\n",
       "      <td>...</td>\n",
       "      <td>...</td>\n",
       "      <td>...</td>\n",
       "      <td>...</td>\n",
       "      <td>...</td>\n",
       "      <td>...</td>\n",
       "      <td>...</td>\n",
       "      <td>...</td>\n",
       "      <td>...</td>\n",
       "    </tr>\n",
       "    <tr>\n",
       "      <th>6820</th>\n",
       "      <td>616210814</td>\n",
       "      <td>62</td>\n",
       "      <td>24</td>\n",
       "      <td>598</td>\n",
       "      <td>0</td>\n",
       "      <td>0</td>\n",
       "      <td>1.0</td>\n",
       "      <td>0.0</td>\n",
       "      <td>1.0</td>\n",
       "      <td>0.0</td>\n",
       "      <td>0.0</td>\n",
       "      <td>0.0</td>\n",
       "      <td>1.0</td>\n",
       "    </tr>\n",
       "    <tr>\n",
       "      <th>6821</th>\n",
       "      <td>469595996</td>\n",
       "      <td>7638</td>\n",
       "      <td>482</td>\n",
       "      <td>99</td>\n",
       "      <td>2028</td>\n",
       "      <td>1</td>\n",
       "      <td>1.0</td>\n",
       "      <td>1.0</td>\n",
       "      <td>1.0</td>\n",
       "      <td>0.0</td>\n",
       "      <td>-21600.0</td>\n",
       "      <td>0.0</td>\n",
       "      <td>0.0</td>\n",
       "    </tr>\n",
       "    <tr>\n",
       "      <th>6822</th>\n",
       "      <td>40779066</td>\n",
       "      <td>35047</td>\n",
       "      <td>15346</td>\n",
       "      <td>2904</td>\n",
       "      <td>1683</td>\n",
       "      <td>59</td>\n",
       "      <td>0.0</td>\n",
       "      <td>1.0</td>\n",
       "      <td>1.0</td>\n",
       "      <td>1.0</td>\n",
       "      <td>-18000.0</td>\n",
       "      <td>0.0</td>\n",
       "      <td>0.0</td>\n",
       "    </tr>\n",
       "    <tr>\n",
       "      <th>6823</th>\n",
       "      <td>264916005</td>\n",
       "      <td>110</td>\n",
       "      <td>24</td>\n",
       "      <td>38</td>\n",
       "      <td>32</td>\n",
       "      <td>0</td>\n",
       "      <td>1.0</td>\n",
       "      <td>0.0</td>\n",
       "      <td>1.0</td>\n",
       "      <td>0.0</td>\n",
       "      <td>0.0</td>\n",
       "      <td>0.0</td>\n",
       "      <td>0.0</td>\n",
       "    </tr>\n",
       "    <tr>\n",
       "      <th>6824</th>\n",
       "      <td>384435379</td>\n",
       "      <td>101</td>\n",
       "      <td>15</td>\n",
       "      <td>513</td>\n",
       "      <td>0</td>\n",
       "      <td>0</td>\n",
       "      <td>1.0</td>\n",
       "      <td>0.0</td>\n",
       "      <td>1.0</td>\n",
       "      <td>0.0</td>\n",
       "      <td>0.0</td>\n",
       "      <td>0.0</td>\n",
       "      <td>1.0</td>\n",
       "    </tr>\n",
       "  </tbody>\n",
       "</table>\n",
       "<p>6825 rows × 13 columns</p>\n",
       "</div>"
      ],
      "text/plain": [
       "              id  statuses_count  followers_count  friends_count  \\\n",
       "0      617694691              41               20            332   \n",
       "1      562035970             617               37            259   \n",
       "2      619466144              27               16            255   \n",
       "3     2774497975              80               30            351   \n",
       "4      249292320               0               11            620   \n",
       "...          ...             ...              ...            ...   \n",
       "6820   616210814              62               24            598   \n",
       "6821   469595996            7638              482             99   \n",
       "6822    40779066           35047            15346           2904   \n",
       "6823   264916005             110               24             38   \n",
       "6824   384435379             101               15            513   \n",
       "\n",
       "      favourites_count  listed_count  default_profile  geo_enabled  \\\n",
       "0                    0             0              1.0          0.0   \n",
       "1                    1             0              1.0          1.0   \n",
       "2                    0             0              1.0          0.0   \n",
       "3                   21             0              1.0          0.0   \n",
       "4                    0             0              0.0          0.0   \n",
       "...                ...           ...              ...          ...   \n",
       "6820                 0             0              1.0          0.0   \n",
       "6821              2028             1              1.0          1.0   \n",
       "6822              1683            59              0.0          1.0   \n",
       "6823                32             0              1.0          0.0   \n",
       "6824                 0             0              1.0          0.0   \n",
       "\n",
       "      profile_use_background_image  profile_background_tile  utc_offset  \\\n",
       "0                              1.0                      0.0         0.0   \n",
       "1                              1.0                      0.0         0.0   \n",
       "2                              1.0                      0.0         0.0   \n",
       "3                              1.0                      0.0         0.0   \n",
       "4                              1.0                      0.0         0.0   \n",
       "...                            ...                      ...         ...   \n",
       "6820                           1.0                      0.0         0.0   \n",
       "6821                           1.0                      0.0    -21600.0   \n",
       "6822                           1.0                      1.0    -18000.0   \n",
       "6823                           1.0                      0.0         0.0   \n",
       "6824                           1.0                      0.0         0.0   \n",
       "\n",
       "      follow_request_sent  fake  \n",
       "0                     0.0   1.0  \n",
       "1                     0.0   0.0  \n",
       "2                     0.0   1.0  \n",
       "3                     0.0   0.0  \n",
       "4                     0.0   1.0  \n",
       "...                   ...   ...  \n",
       "6820                  0.0   1.0  \n",
       "6821                  0.0   0.0  \n",
       "6822                  0.0   0.0  \n",
       "6823                  0.0   0.0  \n",
       "6824                  0.0   1.0  \n",
       "\n",
       "[6825 rows x 13 columns]"
      ]
     },
     "execution_count": 482,
     "metadata": {},
     "output_type": "execute_result"
    }
   ],
   "source": [
    "df_allUsers"
   ]
  },
  {
   "cell_type": "code",
   "execution_count": 458,
   "id": "b87dd940",
   "metadata": {},
   "outputs": [],
   "source": [
    "\n",
    "split = int(0.8*len(df_allUsers))\n",
    "instagram_df_train, instagram_df_test = df_allUsers[:split], df_allUsers[split:]"
   ]
  },
  {
   "cell_type": "code",
   "execution_count": 459,
   "id": "521ed938",
   "metadata": {},
   "outputs": [
    {
     "name": "stdout",
     "output_type": "stream",
     "text": [
      "              id  statuses_count  followers_count  friends_count  \\\n",
      "0      617694691              41               20            332   \n",
      "1      562035970             617               37            259   \n",
      "2      619466144              27               16            255   \n",
      "3     2774497975              80               30            351   \n",
      "4      249292320               0               11            620   \n",
      "...          ...             ...              ...            ...   \n",
      "5455   496673471            4916              358            259   \n",
      "5456   718590512            2799              276            313   \n",
      "5457   622545293              34               12            260   \n",
      "5458   169325249            4996              407            416   \n",
      "5459   421419585              27               26            872   \n",
      "\n",
      "      favourites_count  listed_count  default_profile  geo_enabled  \\\n",
      "0                    0             0              1.0          0.0   \n",
      "1                    1             0              1.0          1.0   \n",
      "2                    0             0              1.0          0.0   \n",
      "3                   21             0              1.0          0.0   \n",
      "4                    0             0              0.0          0.0   \n",
      "...                ...           ...              ...          ...   \n",
      "5455             10980             4              0.0          1.0   \n",
      "5456              2285             0              0.0          1.0   \n",
      "5457                 0             0              1.0          0.0   \n",
      "5458               107             7              0.0          1.0   \n",
      "5459                 3             0              1.0          1.0   \n",
      "\n",
      "      profile_use_background_image  profile_background_tile  utc_offset  \\\n",
      "0                              1.0                      0.0         0.0   \n",
      "1                              1.0                      0.0         0.0   \n",
      "2                              1.0                      0.0         0.0   \n",
      "3                              1.0                      0.0         0.0   \n",
      "4                              1.0                      0.0         0.0   \n",
      "...                            ...                      ...         ...   \n",
      "5455                           0.0                      0.0    -25200.0   \n",
      "5456                           1.0                      1.0    -36000.0   \n",
      "5457                           1.0                      0.0         0.0   \n",
      "5458                           1.0                      1.0    -25200.0   \n",
      "5459                           1.0                      0.0         0.0   \n",
      "\n",
      "      follow_request_sent  \n",
      "0                     0.0  \n",
      "1                     0.0  \n",
      "2                     0.0  \n",
      "3                     0.0  \n",
      "4                     0.0  \n",
      "...                   ...  \n",
      "5455                  0.0  \n",
      "5456                  0.0  \n",
      "5457                  0.0  \n",
      "5458                  0.0  \n",
      "5459                  0.0  \n",
      "\n",
      "[5460 rows x 12 columns]               id  statuses_count  followers_count  friends_count  \\\n",
      "5460   990902802           15449              572            481   \n",
      "5461  2348969828             282               93            103   \n",
      "5462   102336226              68                2            331   \n",
      "5463  3027734638             905              258            206   \n",
      "5464   616228258              52               15            543   \n",
      "...          ...             ...              ...            ...   \n",
      "6820   616210814              62               24            598   \n",
      "6821   469595996            7638              482             99   \n",
      "6822    40779066           35047            15346           2904   \n",
      "6823   264916005             110               24             38   \n",
      "6824   384435379             101               15            513   \n",
      "\n",
      "      favourites_count  listed_count  default_profile  geo_enabled  \\\n",
      "5460              4311             0              1.0          1.0   \n",
      "5461              4215             1              1.0          0.0   \n",
      "5462                 0             0              1.0          0.0   \n",
      "5463               517             0              1.0          1.0   \n",
      "5464                 0             0              1.0          0.0   \n",
      "...                ...           ...              ...          ...   \n",
      "6820                 0             0              1.0          0.0   \n",
      "6821              2028             1              1.0          1.0   \n",
      "6822              1683            59              0.0          1.0   \n",
      "6823                32             0              1.0          0.0   \n",
      "6824                 0             0              1.0          0.0   \n",
      "\n",
      "      profile_use_background_image  profile_background_tile  utc_offset  \\\n",
      "5460                           1.0                      0.0    -18000.0   \n",
      "5461                           1.0                      0.0         0.0   \n",
      "5462                           1.0                      0.0         0.0   \n",
      "5463                           1.0                      0.0         0.0   \n",
      "5464                           1.0                      0.0         0.0   \n",
      "...                            ...                      ...         ...   \n",
      "6820                           1.0                      0.0         0.0   \n",
      "6821                           1.0                      0.0    -21600.0   \n",
      "6822                           1.0                      1.0    -18000.0   \n",
      "6823                           1.0                      0.0         0.0   \n",
      "6824                           1.0                      0.0         0.0   \n",
      "\n",
      "      follow_request_sent  \n",
      "5460                  0.0  \n",
      "5461                  0.0  \n",
      "5462                  0.0  \n",
      "5463                  0.0  \n",
      "5464                  0.0  \n",
      "...                   ...  \n",
      "6820                  0.0  \n",
      "6821                  0.0  \n",
      "6822                  0.0  \n",
      "6823                  0.0  \n",
      "6824                  0.0  \n",
      "\n",
      "[1365 rows x 12 columns]\n"
     ]
    }
   ],
   "source": [
    "X_train = instagram_df_train.drop(columns = ['fake'])\n",
    "X_test = instagram_df_test.drop(columns = ['fake'])\n",
    "\n",
    "print(X_train,X_test)"
   ]
  },
  {
   "cell_type": "code",
   "execution_count": 460,
   "id": "af45584e",
   "metadata": {},
   "outputs": [],
   "source": [
    "y_train = instagram_df_train['fake']\n",
    "y_test = instagram_df_test['fake']"
   ]
  },
  {
   "cell_type": "code",
   "execution_count": 461,
   "id": "9165e1ca",
   "metadata": {},
   "outputs": [
    {
     "name": "stdout",
     "output_type": "stream",
     "text": [
      "[[0. 1.]\n",
      " [1. 0.]\n",
      " [0. 1.]\n",
      " ...\n",
      " [0. 1.]\n",
      " [1. 0.]\n",
      " [0. 1.]] [[1. 0.]\n",
      " [1. 0.]\n",
      " [0. 1.]\n",
      " ...\n",
      " [1. 0.]\n",
      " [1. 0.]\n",
      " [0. 1.]]\n"
     ]
    }
   ],
   "source": [
    "# Scale the data before training the model\n",
    "from sklearn.preprocessing import StandardScaler, MinMaxScaler\n",
    "scaler_x = StandardScaler()\n",
    "X_train = scaler_x.fit_transform(X_train)\n",
    "X_test = scaler_x.transform(X_test)\n",
    "\n",
    "y_train = tf.keras.utils.to_categorical(y_train, num_classes = 2)\n",
    "y_test = tf.keras.utils.to_categorical(y_test, num_classes = 2)\n",
    "\n",
    "print(y_train,y_test)\n",
    "\n",
    "# The function to_categorical will convert each integer label in y_train to a binary vector (or one-hot encoding),\n",
    "# where each element of the vector represents whether the sample belongs to a particular class or not. \n"
   ]
  },
  {
   "cell_type": "code",
   "execution_count": 462,
   "id": "d631dbb9",
   "metadata": {},
   "outputs": [
    {
     "data": {
      "text/plain": [
       "(5460, 12)"
      ]
     },
     "execution_count": 462,
     "metadata": {},
     "output_type": "execute_result"
    }
   ],
   "source": [
    "X_train.shape"
   ]
  },
  {
   "cell_type": "code",
   "execution_count": 463,
   "id": "3c9b8653",
   "metadata": {},
   "outputs": [
    {
     "data": {
      "text/plain": [
       "(1365, 12)"
      ]
     },
     "execution_count": 463,
     "metadata": {},
     "output_type": "execute_result"
    }
   ],
   "source": [
    "X_test.shape"
   ]
  },
  {
   "cell_type": "code",
   "execution_count": 464,
   "id": "6f451d67",
   "metadata": {},
   "outputs": [
    {
     "data": {
      "text/plain": [
       "(5460, 2)"
      ]
     },
     "execution_count": 464,
     "metadata": {},
     "output_type": "execute_result"
    }
   ],
   "source": [
    "y_train.shape"
   ]
  },
  {
   "cell_type": "code",
   "execution_count": 465,
   "id": "7009ff54",
   "metadata": {},
   "outputs": [
    {
     "data": {
      "text/plain": [
       "(1365, 2)"
      ]
     },
     "execution_count": 465,
     "metadata": {},
     "output_type": "execute_result"
    }
   ],
   "source": [
    "y_test.shape"
   ]
  },
  {
   "cell_type": "code",
   "execution_count": 466,
   "id": "db8a511d",
   "metadata": {},
   "outputs": [
    {
     "name": "stdout",
     "output_type": "stream",
     "text": [
      "Model: \"sequential_20\"\n",
      "_________________________________________________________________\n",
      " Layer (type)                Output Shape              Param #   \n",
      "=================================================================\n",
      " dense_78 (Dense)            (None, 128)               1664      \n",
      "                                                                 \n",
      " dropout_49 (Dropout)        (None, 128)               0         \n",
      "                                                                 \n",
      " dense_79 (Dense)            (None, 64)                8256      \n",
      "                                                                 \n",
      " dropout_50 (Dropout)        (None, 64)                0         \n",
      "                                                                 \n",
      " dense_80 (Dense)            (None, 2)                 130       \n",
      "                                                                 \n",
      "=================================================================\n",
      "Total params: 10050 (39.26 KB)\n",
      "Trainable params: 10050 (39.26 KB)\n",
      "Non-trainable params: 0 (0.00 Byte)\n",
      "_________________________________________________________________\n",
      "Epoch 1/50\n",
      "154/154 [==============================] - 0s 1ms/step - loss: 0.3490 - accuracy: 0.8867 - val_loss: 0.2005 - val_accuracy: 0.9194\n",
      "Epoch 2/50\n",
      "154/154 [==============================] - 0s 491us/step - loss: 0.2027 - accuracy: 0.9288 - val_loss: 0.1617 - val_accuracy: 0.9396\n",
      "Epoch 3/50\n",
      "154/154 [==============================] - 0s 625us/step - loss: 0.1747 - accuracy: 0.9371 - val_loss: 0.1335 - val_accuracy: 0.9542\n",
      "Epoch 4/50\n",
      "154/154 [==============================] - 0s 538us/step - loss: 0.1552 - accuracy: 0.9455 - val_loss: 0.1171 - val_accuracy: 0.9634\n",
      "Epoch 5/50\n",
      "154/154 [==============================] - 0s 515us/step - loss: 0.1308 - accuracy: 0.9522 - val_loss: 0.1043 - val_accuracy: 0.9652\n",
      "Epoch 6/50\n",
      "154/154 [==============================] - 0s 528us/step - loss: 0.1246 - accuracy: 0.9512 - val_loss: 0.0935 - val_accuracy: 0.9689\n",
      "Epoch 7/50\n",
      "154/154 [==============================] - 0s 504us/step - loss: 0.1114 - accuracy: 0.9573 - val_loss: 0.0804 - val_accuracy: 0.9707\n",
      "Epoch 8/50\n",
      "154/154 [==============================] - 0s 493us/step - loss: 0.1046 - accuracy: 0.9626 - val_loss: 0.0802 - val_accuracy: 0.9707\n",
      "Epoch 9/50\n",
      "154/154 [==============================] - 0s 485us/step - loss: 0.0920 - accuracy: 0.9644 - val_loss: 0.0696 - val_accuracy: 0.9707\n",
      "Epoch 10/50\n",
      "154/154 [==============================] - 0s 485us/step - loss: 0.0854 - accuracy: 0.9689 - val_loss: 0.0674 - val_accuracy: 0.9744\n",
      "Epoch 11/50\n",
      "154/154 [==============================] - 0s 477us/step - loss: 0.0798 - accuracy: 0.9717 - val_loss: 0.0664 - val_accuracy: 0.9762\n",
      "Epoch 12/50\n",
      "154/154 [==============================] - 0s 476us/step - loss: 0.0746 - accuracy: 0.9737 - val_loss: 0.0699 - val_accuracy: 0.9725\n",
      "Epoch 13/50\n",
      "154/154 [==============================] - 0s 472us/step - loss: 0.0708 - accuracy: 0.9727 - val_loss: 0.0603 - val_accuracy: 0.9780\n",
      "Epoch 14/50\n",
      "154/154 [==============================] - 0s 477us/step - loss: 0.0704 - accuracy: 0.9746 - val_loss: 0.0617 - val_accuracy: 0.9762\n",
      "Epoch 15/50\n",
      "154/154 [==============================] - 0s 472us/step - loss: 0.0683 - accuracy: 0.9758 - val_loss: 0.0655 - val_accuracy: 0.9762\n",
      "Epoch 16/50\n",
      "154/154 [==============================] - 0s 498us/step - loss: 0.0669 - accuracy: 0.9762 - val_loss: 0.0650 - val_accuracy: 0.9762\n",
      "Epoch 17/50\n",
      "154/154 [==============================] - 0s 597us/step - loss: 0.0621 - accuracy: 0.9780 - val_loss: 0.0574 - val_accuracy: 0.9799\n",
      "Epoch 18/50\n",
      "154/154 [==============================] - 0s 521us/step - loss: 0.0634 - accuracy: 0.9786 - val_loss: 0.0652 - val_accuracy: 0.9762\n",
      "Epoch 19/50\n",
      "154/154 [==============================] - 0s 518us/step - loss: 0.0610 - accuracy: 0.9799 - val_loss: 0.0599 - val_accuracy: 0.9780\n",
      "Epoch 20/50\n",
      "154/154 [==============================] - 0s 509us/step - loss: 0.0572 - accuracy: 0.9813 - val_loss: 0.0604 - val_accuracy: 0.9799\n",
      "Epoch 21/50\n",
      "154/154 [==============================] - 0s 507us/step - loss: 0.0592 - accuracy: 0.9799 - val_loss: 0.0638 - val_accuracy: 0.9799\n",
      "Epoch 22/50\n",
      "154/154 [==============================] - 0s 511us/step - loss: 0.0582 - accuracy: 0.9792 - val_loss: 0.0619 - val_accuracy: 0.9799\n",
      "Epoch 23/50\n",
      "154/154 [==============================] - 0s 524us/step - loss: 0.0577 - accuracy: 0.9823 - val_loss: 0.0581 - val_accuracy: 0.9799\n",
      "Epoch 24/50\n",
      "154/154 [==============================] - 0s 519us/step - loss: 0.0594 - accuracy: 0.9792 - val_loss: 0.0645 - val_accuracy: 0.9780\n",
      "Epoch 25/50\n",
      "154/154 [==============================] - 0s 515us/step - loss: 0.0553 - accuracy: 0.9815 - val_loss: 0.0615 - val_accuracy: 0.9799\n",
      "Epoch 26/50\n",
      "154/154 [==============================] - 0s 498us/step - loss: 0.0554 - accuracy: 0.9825 - val_loss: 0.0620 - val_accuracy: 0.9835\n",
      "Epoch 27/50\n",
      "154/154 [==============================] - 0s 521us/step - loss: 0.0561 - accuracy: 0.9823 - val_loss: 0.0537 - val_accuracy: 0.9817\n",
      "Epoch 28/50\n",
      "154/154 [==============================] - 0s 518us/step - loss: 0.0508 - accuracy: 0.9827 - val_loss: 0.0541 - val_accuracy: 0.9817\n",
      "Epoch 29/50\n",
      "154/154 [==============================] - 0s 522us/step - loss: 0.0507 - accuracy: 0.9825 - val_loss: 0.0514 - val_accuracy: 0.9817\n",
      "Epoch 30/50\n",
      "154/154 [==============================] - 0s 507us/step - loss: 0.0535 - accuracy: 0.9819 - val_loss: 0.0560 - val_accuracy: 0.9799\n",
      "Epoch 31/50\n",
      "154/154 [==============================] - 0s 502us/step - loss: 0.0527 - accuracy: 0.9811 - val_loss: 0.0569 - val_accuracy: 0.9799\n",
      "Epoch 32/50\n",
      "154/154 [==============================] - 0s 505us/step - loss: 0.0508 - accuracy: 0.9833 - val_loss: 0.0643 - val_accuracy: 0.9799\n",
      "Epoch 33/50\n",
      "154/154 [==============================] - 0s 495us/step - loss: 0.0488 - accuracy: 0.9831 - val_loss: 0.0599 - val_accuracy: 0.9817\n",
      "Epoch 34/50\n",
      "154/154 [==============================] - 0s 483us/step - loss: 0.0487 - accuracy: 0.9829 - val_loss: 0.0647 - val_accuracy: 0.9817\n",
      "Epoch 35/50\n",
      "154/154 [==============================] - 0s 472us/step - loss: 0.0504 - accuracy: 0.9815 - val_loss: 0.0595 - val_accuracy: 0.9853\n",
      "Epoch 36/50\n",
      "154/154 [==============================] - 0s 477us/step - loss: 0.0483 - accuracy: 0.9817 - val_loss: 0.0548 - val_accuracy: 0.9799\n",
      "Epoch 37/50\n",
      "154/154 [==============================] - 0s 473us/step - loss: 0.0464 - accuracy: 0.9847 - val_loss: 0.0581 - val_accuracy: 0.9799\n",
      "Epoch 38/50\n",
      "154/154 [==============================] - 0s 475us/step - loss: 0.0509 - accuracy: 0.9827 - val_loss: 0.0541 - val_accuracy: 0.9799\n",
      "Epoch 39/50\n",
      "154/154 [==============================] - 0s 475us/step - loss: 0.0457 - accuracy: 0.9839 - val_loss: 0.0514 - val_accuracy: 0.9835\n",
      "Epoch 40/50\n",
      "154/154 [==============================] - 0s 480us/step - loss: 0.0477 - accuracy: 0.9843 - val_loss: 0.0591 - val_accuracy: 0.9835\n",
      "Epoch 41/50\n",
      "154/154 [==============================] - 0s 474us/step - loss: 0.0470 - accuracy: 0.9839 - val_loss: 0.0529 - val_accuracy: 0.9853\n",
      "Epoch 42/50\n",
      "154/154 [==============================] - 0s 476us/step - loss: 0.0469 - accuracy: 0.9831 - val_loss: 0.0523 - val_accuracy: 0.9835\n",
      "Epoch 43/50\n",
      "154/154 [==============================] - 0s 479us/step - loss: 0.0472 - accuracy: 0.9829 - val_loss: 0.0597 - val_accuracy: 0.9817\n",
      "Epoch 44/50\n",
      "154/154 [==============================] - 0s 502us/step - loss: 0.0470 - accuracy: 0.9835 - val_loss: 0.0545 - val_accuracy: 0.9835\n",
      "Epoch 45/50\n",
      "154/154 [==============================] - 0s 508us/step - loss: 0.0441 - accuracy: 0.9847 - val_loss: 0.0512 - val_accuracy: 0.9853\n",
      "Epoch 46/50\n",
      "154/154 [==============================] - 0s 514us/step - loss: 0.0437 - accuracy: 0.9853 - val_loss: 0.0531 - val_accuracy: 0.9853\n",
      "Epoch 47/50\n",
      "154/154 [==============================] - 0s 500us/step - loss: 0.0416 - accuracy: 0.9845 - val_loss: 0.0499 - val_accuracy: 0.9835\n",
      "Epoch 48/50\n",
      "154/154 [==============================] - 0s 490us/step - loss: 0.0466 - accuracy: 0.9825 - val_loss: 0.0553 - val_accuracy: 0.9853\n",
      "Epoch 49/50\n",
      "154/154 [==============================] - 0s 483us/step - loss: 0.0415 - accuracy: 0.9853 - val_loss: 0.0618 - val_accuracy: 0.9853\n"
     ]
    },
    {
     "name": "stdout",
     "output_type": "stream",
     "text": [
      "Epoch 50/50\n",
      "154/154 [==============================] - 0s 484us/step - loss: 0.0443 - accuracy: 0.9858 - val_loss: 0.0551 - val_accuracy: 0.9835\n"
     ]
    }
   ],
   "source": [
    "\n",
    "model = keras.Sequential([\n",
    "    keras.layers.Dense(128, activation='relu', input_dim=12),\n",
    "    keras.layers.Dropout(0.5),\n",
    "    keras.layers.Dense(64, activation='relu'),\n",
    "    keras.layers.Dropout(0.5),\n",
    "    keras.layers.Dense(2, activation='sigmoid')\n",
    "])\n",
    "\n",
    "model.compile(optimizer='adam', loss='binary_crossentropy', metrics=['accuracy'])\n",
    "\n",
    "model.summary()\n",
    "epochs_hist = model.fit(X_train, y_train, epochs = 50,  verbose = 1, validation_split = 0.1)"
   ]
  },
  {
   "cell_type": "code",
   "execution_count": 467,
   "id": "e9fb6501",
   "metadata": {},
   "outputs": [
    {
     "name": "stdout",
     "output_type": "stream",
     "text": [
      "43/43 [==============================] - 0s 258us/step\n",
      "              precision    recall  f1-score   support\n",
      "\n",
      "           0       0.97      0.98      0.98       694\n",
      "           1       0.98      0.97      0.98       671\n",
      "\n",
      "    accuracy                           0.98      1365\n",
      "   macro avg       0.98      0.98      0.98      1365\n",
      "weighted avg       0.98      0.98      0.98      1365\n",
      "\n"
     ]
    }
   ],
   "source": [
    "predicted = model.predict(X_test)\n",
    "\n",
    "predicted_value = []\n",
    "test = []\n",
    "for i in predicted:\n",
    "    predicted_value.append(np.argmax(i))\n",
    "    \n",
    "for i in y_test:\n",
    "    test.append(np.argmax(i))\n",
    "\n",
    "print(classification_report(test, predicted_value))\n",
    "\n",
    "\n"
   ]
  },
  {
   "cell_type": "code",
   "execution_count": 468,
   "id": "b053df18",
   "metadata": {},
   "outputs": [
    {
     "data": {
      "image/png": "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",
      "text/plain": [
       "<Figure size 1000x1000 with 2 Axes>"
      ]
     },
     "metadata": {},
     "output_type": "display_data"
    }
   ],
   "source": [
    "plt.figure(figsize=(10, 10))\n",
    "cm=confusion_matrix(test, predicted_value)\n",
    "sns.heatmap(cm, annot=True)\n",
    "plt.show()"
   ]
  },
  {
   "cell_type": "code",
   "execution_count": 469,
   "id": "99aa3f9d",
   "metadata": {},
   "outputs": [
    {
     "data": {
      "image/png": "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",
      "text/plain": [
       "<Figure size 640x480 with 1 Axes>"
      ]
     },
     "metadata": {},
     "output_type": "display_data"
    }
   ],
   "source": [
    "plt.plot(epochs_hist.history['loss'])\n",
    "plt.plot(epochs_hist.history['val_loss'])\n",
    "\n",
    "plt.title('Model Loss Progression During Training/Validation')\n",
    "plt.ylabel('Training and Validation Losses')\n",
    "plt.xlabel('Epoch Number')\n",
    "plt.legend(['Training Loss', 'Validation Loss'])\n",
    "plt.show()"
   ]
  },
  {
   "cell_type": "code",
   "execution_count": 470,
   "id": "556583f3",
   "metadata": {},
   "outputs": [
    {
     "data": {
      "image/png": "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",
      "text/plain": [
       "<Figure size 640x480 with 1 Axes>"
      ]
     },
     "metadata": {},
     "output_type": "display_data"
    }
   ],
   "source": [
    "plt.plot(epochs_hist.history['accuracy'])\n",
    "plt.plot(epochs_hist.history['val_accuracy'])\n",
    "\n",
    "plt.title('Model Accuracy Progression During Training/Validation')\n",
    "plt.ylabel('Training and Validation Losses')\n",
    "plt.xlabel('Epoch Number')\n",
    "plt.legend(['Training Acc', 'Validation Acc'])\n",
    "plt.show()"
   ]
  },
  {
   "cell_type": "code",
   "execution_count": 471,
   "id": "69eb54dc",
   "metadata": {
    "scrolled": true
   },
   "outputs": [
    {
     "name": "stdout",
     "output_type": "stream",
     "text": [
      "    Accuracy  Validation_Accuracy      Loss  Validation Loss\n",
      "0   0.886650             0.919414  0.349004         0.200520\n",
      "1   0.928775             0.939560  0.202728         0.161745\n",
      "2   0.937118             0.954212  0.174690         0.133501\n",
      "3   0.945462             0.963370  0.155240         0.117135\n",
      "4   0.952177             0.965201  0.130787         0.104345\n",
      "5   0.951160             0.968864  0.124555         0.093485\n",
      "6   0.957265             0.970696  0.111384         0.080400\n",
      "7   0.962556             0.970696  0.104575         0.080219\n",
      "8   0.964387             0.970696  0.091970         0.069634\n",
      "9   0.968864             0.974359  0.085387         0.067386\n",
      "10  0.971713             0.976190  0.079755         0.066429\n",
      "11  0.973748             0.972527  0.074641         0.069891\n",
      "12  0.972731             0.978022  0.070788         0.060338\n",
      "13  0.974562             0.976190  0.070410         0.061687\n",
      "14  0.975783             0.976190  0.068322         0.065497\n",
      "15  0.976190             0.976190  0.066868         0.065011\n",
      "16  0.978022             0.979853  0.062116         0.057356\n",
      "17  0.978632             0.976190  0.063361         0.065174\n",
      "18  0.979853             0.978022  0.060998         0.059874\n",
      "19  0.981278             0.979853  0.057203         0.060378\n",
      "20  0.979853             0.979853  0.059162         0.063847\n",
      "21  0.979243             0.979853  0.058204         0.061924\n",
      "22  0.982295             0.979853  0.057659         0.058109\n",
      "23  0.979243             0.978022  0.059406         0.064498\n",
      "24  0.981481             0.979853  0.055272         0.061537\n",
      "25  0.982499             0.983516  0.055431         0.062003\n",
      "26  0.982295             0.981685  0.056059         0.053660\n",
      "27  0.982702             0.981685  0.050756         0.054112\n",
      "28  0.982499             0.981685  0.050671         0.051374\n",
      "29  0.981888             0.979853  0.053498         0.055979\n",
      "30  0.981074             0.979853  0.052652         0.056928\n",
      "31  0.983313             0.979853  0.050836         0.064312\n",
      "32  0.983109             0.981685  0.048827         0.059907\n",
      "33  0.982906             0.981685  0.048652         0.064734\n",
      "34  0.981481             0.985348  0.050386         0.059482\n",
      "35  0.981685             0.979853  0.048311         0.054769\n",
      "36  0.984737             0.979853  0.046369         0.058131\n",
      "37  0.982702             0.979853  0.050875         0.054121\n",
      "38  0.983923             0.983516  0.045659         0.051402\n",
      "39  0.984330             0.983516  0.047652         0.059075\n",
      "40  0.983923             0.985348  0.047033         0.052899\n",
      "41  0.983109             0.983516  0.046892         0.052267\n",
      "42  0.982906             0.981685  0.047188         0.059662\n",
      "43  0.983516             0.983516  0.047028         0.054487\n",
      "44  0.984737             0.985348  0.044131         0.051236\n",
      "45  0.985348             0.985348  0.043726         0.053130\n",
      "46  0.984534             0.983516  0.041614         0.049853\n",
      "47  0.982499             0.985348  0.046596         0.055335\n",
      "48  0.985348             0.985348  0.041518         0.061756\n",
      "49  0.985755             0.983516  0.044315         0.055108\n",
      "Accuracy :  97.40374386310577\n",
      "Validation Accuracy :  97.65933907032013\n",
      "Loss :  7.4023242592811584\n",
      "Validation Loss :  6.911282427608967\n"
     ]
    }
   ],
   "source": [
    "dicts = {\n",
    "    'Accuracy' : epochs_hist.history['accuracy'],\n",
    "    'Validation_Accuracy' : epochs_hist.history['val_accuracy'],\n",
    "    'Loss' : epochs_hist.history['loss'],\n",
    "    'Validation Loss' : epochs_hist.history['val_loss']\n",
    "}\n",
    "\n",
    "model_training_progress = pd.DataFrame(dicts)\n",
    "model_training_progress\n",
    "\n",
    "print(model_training_progress)\n",
    "\n",
    "def get_avg(lst):\n",
    "    return sum(lst) / len(lst)\n",
    "\n",
    "print(\"Accuracy : \", get_avg(model_training_progress['Accuracy']) * 100)\n",
    "print(\"Validation Accuracy : \", get_avg(model_training_progress['Validation_Accuracy']) * 100)\n",
    "print(\"Loss : \", get_avg(model_training_progress['Loss']) * 100)\n",
    "print(\"Validation Loss : \", get_avg(model_training_progress['Validation Loss']) * 100)"
   ]
  },
  {
   "cell_type": "code",
   "execution_count": 479,
   "id": "40599595",
   "metadata": {},
   "outputs": [
    {
     "data": {
      "text/plain": [
       "[0, 0, 1, 0, 1, 0, 0, 1, 0, 0]"
      ]
     },
     "execution_count": 479,
     "metadata": {},
     "output_type": "execute_result"
    }
   ],
   "source": [
    "predicted_value[:10]"
   ]
  },
  {
   "cell_type": "code",
   "execution_count": 478,
   "id": "43499239",
   "metadata": {},
   "outputs": [
    {
     "data": {
      "text/plain": [
       "[0, 0, 1, 0, 1, 0, 0, 1, 0, 0]"
      ]
     },
     "execution_count": 478,
     "metadata": {},
     "output_type": "execute_result"
    }
   ],
   "source": [
    "test[:10]"
   ]
  },
  {
   "cell_type": "code",
   "execution_count": 481,
   "id": "c6924ed8",
   "metadata": {},
   "outputs": [
    {
     "name": "stdout",
     "output_type": "stream",
     "text": [
      "Precision: 98.34087481146304\n",
      "Recall: 97.16840536512667\n",
      "F1-score: 97.7511244377811\n"
     ]
    }
   ],
   "source": [
    "from sklearn.metrics import precision_score, recall_score, f1_score\n",
    "\n",
    "precision = precision_score(test, predicted_value)\n",
    "\n",
    "# Calculate recall\n",
    "recall = recall_score(test, predicted_value)\n",
    "\n",
    "# Calculate F1-score\n",
    "f1 = f1_score(test, predicted_value)\n",
    "\n",
    "print(\"Precision:\", precision* 100)\n",
    "print(\"Recall:\", recall* 100)\n",
    "print(\"F1-score:\", f1* 100)"
   ]
  },
  {
   "cell_type": "code",
   "execution_count": null,
   "id": "42d0dcbe",
   "metadata": {},
   "outputs": [],
   "source": []
  }
 ],
 "metadata": {
  "kernelspec": {
   "display_name": "Python 3 (ipykernel)",
   "language": "python",
   "name": "python3"
  },
  "language_info": {
   "codemirror_mode": {
    "name": "ipython",
    "version": 3
   },
   "file_extension": ".py",
   "mimetype": "text/x-python",
   "name": "python",
   "nbconvert_exporter": "python",
   "pygments_lexer": "ipython3",
   "version": "3.11.4"
  }
 },
 "nbformat": 4,
 "nbformat_minor": 5
}
